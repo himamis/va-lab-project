{
 "cells": [
  {
   "cell_type": "markdown",
   "metadata": {},
   "source": [
    "## Data wrangling\n",
    "Some string entries contain a newline, which makes the pandas csv parser to think that its a new entry. We need to remove those newlines and replace them with something else."
   ]
  },
  {
   "cell_type": "code",
   "execution_count": 136,
   "metadata": {
    "collapsed": false
   },
   "outputs": [],
   "source": [
    "import re # regex for data wrangling\n",
    "import pandas as pd# for loading data\n",
    "import numpy as np\n",
    "import io\n",
    "import mysql.connector as con"
   ]
  },
  {
   "cell_type": "code",
   "execution_count": 137,
   "metadata": {
    "collapsed": false
   },
   "outputs": [],
   "source": [
    "connection = con.connect(user = 'root', database = 'foodb')"
   ]
  },
  {
   "cell_type": "code",
   "execution_count": null,
   "metadata": {
    "collapsed": true
   },
   "outputs": [],
   "source": [
    "data = pandas.read_sql(\"SELECt * FROM foods\", )"
   ]
  },
  {
   "cell_type": "code",
   "execution_count": 121,
   "metadata": {
    "collapsed": false
   },
   "outputs": [],
   "source": [
    "def wrangle_data(filename, types = None, na_values = None):\n",
    "    file = open(database_folder + filename, \"r\")\n",
    "    file_str = file.read()\n",
    "    file_str = re.sub(r'\\n([^0-9])', r\" \\1\", file_str)\n",
    "    file_str = re.sub(r'\\\\\"', r\"'\", file_str)\n",
    "    return pd.read_csv(io.StringIO(file_str), quotechar = '\"', dtype = types, na_values = na_values)"
   ]
  },
  {
   "cell_type": "code",
   "execution_count": 126,
   "metadata": {
    "collapsed": false
   },
   "outputs": [
    {
     "name": "stderr",
     "output_type": "stream",
     "text": [
      "C:\\Users\\himamis\\Anaconda3\\lib\\site-packages\\IPython\\core\\interactiveshell.py:2825: DtypeWarning: Columns (4,5,6,7,8,9,10,12,13,14,17,21,22) have mixed types. Specify dtype option on import or set low_memory=False.\n",
      "  if self.run_code(code, result):\n"
     ]
    }
   ],
   "source": [
    "data = wrangle_data(\"contents.csv\")"
   ]
  },
  {
   "cell_type": "code",
   "execution_count": 135,
   "metadata": {
    "collapsed": false
   },
   "outputs": [
    {
     "data": {
      "text/plain": [
       "array(['ppm', nan, 'g', 'DATABASE', 'kJ', 'kcal', 'RE', 'ug', 'aTE', 'mg',\n",
       "       'NE', 'IU', 'ug_RAE', 'ug_DFE', 'mg/100 g', 'mg/100 ml', 'mg/100g',\n",
       "       'Î±-TE', 'Âµg', 'ug/g', 'uM'], dtype=object)"
      ]
     },
     "execution_count": 135,
     "metadata": {},
     "output_type": "execute_result"
    }
   ],
   "source": [
    "data[\"orig_unit\"].unique()"
   ]
  },
  {
   "cell_type": "code",
   "execution_count": null,
   "metadata": {
    "collapsed": true
   },
   "outputs": [],
   "source": []
  }
 ],
 "metadata": {
  "kernelspec": {
   "display_name": "Python 3",
   "language": "python",
   "name": "python3"
  },
  "language_info": {
   "codemirror_mode": {
    "name": "ipython",
    "version": 3
   },
   "file_extension": ".py",
   "mimetype": "text/x-python",
   "name": "python",
   "nbconvert_exporter": "python",
   "pygments_lexer": "ipython3",
   "version": "3.5.2"
  }
 },
 "nbformat": 4,
 "nbformat_minor": 0
}
