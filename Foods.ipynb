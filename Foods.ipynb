{
 "cells": [
  {
   "cell_type": "markdown",
   "metadata": {},
   "source": [
    "Let's query some interesting stuff about foods"
   ]
  },
  {
   "cell_type": "code",
   "execution_count": 98,
   "metadata": {
    "collapsed": true
   },
   "outputs": [],
   "source": [
    "import pandas as pd # for loading data\n",
    "import mysql.connector as con\n",
    "import matplotlib.pyplot as plt\n",
    "%matplotlib inline  "
   ]
  },
  {
   "cell_type": "code",
   "execution_count": 2,
   "metadata": {
    "collapsed": true
   },
   "outputs": [],
   "source": [
    "connection = con.connect(user = 'root', password = 'root', database = 'foodb')"
   ]
  },
  {
   "cell_type": "markdown",
   "metadata": {},
   "source": [
    "Let's query some interesting data about foods"
   ]
  },
  {
   "cell_type": "code",
   "execution_count": 73,
   "metadata": {
    "collapsed": true
   },
   "outputs": [],
   "source": [
    "foods = pd.read_sql(\"SELECT f.id, f.name, f.food_subgroup, COUNT(DISTINCT c.source_id) AS nnutrients FROM foods AS f, contents AS c \" + \n",
    "                    \"WHERE f.id = c.food_id AND c.source_type = \\\"Nutrient\\\" GROUP BY f.id\", connection)"
   ]
  },
  {
   "cell_type": "code",
   "execution_count": 41,
   "metadata": {
    "collapsed": false
   },
   "outputs": [
    {
     "data": {
      "text/html": [
       "<div>\n",
       "<table border=\"1\" class=\"dataframe\">\n",
       "  <thead>\n",
       "    <tr style=\"text-align: right;\">\n",
       "      <th></th>\n",
       "      <th>id</th>\n",
       "      <th>name</th>\n",
       "      <th>food_subgroup</th>\n",
       "      <th>nnutrients</th>\n",
       "    </tr>\n",
       "  </thead>\n",
       "  <tbody>\n",
       "    <tr>\n",
       "      <th>0</th>\n",
       "      <td>2</td>\n",
       "      <td>Savoy cabbage</td>\n",
       "      <td>Cabbages</td>\n",
       "      <td>7</td>\n",
       "    </tr>\n",
       "    <tr>\n",
       "      <th>1</th>\n",
       "      <td>4</td>\n",
       "      <td>Kiwi</td>\n",
       "      <td>Tropical fruits</td>\n",
       "      <td>17</td>\n",
       "    </tr>\n",
       "    <tr>\n",
       "      <th>2</th>\n",
       "      <td>5</td>\n",
       "      <td>Allium (Onion)</td>\n",
       "      <td>Onion-family vegetables</td>\n",
       "      <td>33</td>\n",
       "    </tr>\n",
       "    <tr>\n",
       "      <th>3</th>\n",
       "      <td>6</td>\n",
       "      <td>Garden onion</td>\n",
       "      <td>Onion-family vegetables</td>\n",
       "      <td>3</td>\n",
       "    </tr>\n",
       "    <tr>\n",
       "      <th>4</th>\n",
       "      <td>7</td>\n",
       "      <td>Leek</td>\n",
       "      <td>Onion-family vegetables</td>\n",
       "      <td>7</td>\n",
       "    </tr>\n",
       "  </tbody>\n",
       "</table>\n",
       "</div>"
      ],
      "text/plain": [
       "   id            name            food_subgroup  nnutrients\n",
       "0   2   Savoy cabbage                 Cabbages           7\n",
       "1   4            Kiwi          Tropical fruits          17\n",
       "2   5  Allium (Onion)  Onion-family vegetables          33\n",
       "3   6    Garden onion  Onion-family vegetables           3\n",
       "4   7            Leek  Onion-family vegetables           7"
      ]
     },
     "execution_count": 41,
     "metadata": {},
     "output_type": "execute_result"
    }
   ],
   "source": [
    "foods.head()"
   ]
  },
  {
   "cell_type": "markdown",
   "metadata": {},
   "source": [
    "I will query the top 20 compounds that are present in most of the foods and add them to the foods table"
   ]
  },
  {
   "cell_type": "code",
   "execution_count": 11,
   "metadata": {
    "collapsed": true
   },
   "outputs": [],
   "source": [
    "compounds = pd.read_sql(\"SELECT ta.source_id, comp.name, ta.cnt FROM (SELECT source_id, COUNT(*) AS cnt \" + \n",
    "                    \"FROM `contents` WHERE source_type = \\\"Compound\\\" GROUP BY source_id ORDER BY cnt DESC LIMIT 20) ta, compounds \" + \n",
    "                    \"AS comp WHERE ta.source_id = comp.id\" , connection)"
   ]
  },
  {
   "cell_type": "code",
   "execution_count": 12,
   "metadata": {
    "collapsed": false
   },
   "outputs": [
    {
     "data": {
      "text/html": [
       "<div>\n",
       "<table border=\"1\" class=\"dataframe\">\n",
       "  <thead>\n",
       "    <tr style=\"text-align: right;\">\n",
       "      <th></th>\n",
       "      <th>source_id</th>\n",
       "      <th>name</th>\n",
       "      <th>cnt</th>\n",
       "    </tr>\n",
       "  </thead>\n",
       "  <tbody>\n",
       "    <tr>\n",
       "      <th>0</th>\n",
       "      <td>14507</td>\n",
       "      <td>Folic acid</td>\n",
       "      <td>28009</td>\n",
       "    </tr>\n",
       "    <tr>\n",
       "      <th>1</th>\n",
       "      <td>13831</td>\n",
       "      <td>Retinol</td>\n",
       "      <td>22931</td>\n",
       "    </tr>\n",
       "    <tr>\n",
       "      <th>2</th>\n",
       "      <td>21595</td>\n",
       "      <td>Unsaturated fatty acids</td>\n",
       "      <td>18776</td>\n",
       "    </tr>\n",
       "    <tr>\n",
       "      <th>3</th>\n",
       "      <td>13267</td>\n",
       "      <td>Cyanocobalamin</td>\n",
       "      <td>12424</td>\n",
       "    </tr>\n",
       "    <tr>\n",
       "      <th>4</th>\n",
       "      <td>565</td>\n",
       "      <td>alpha-Tocopherol</td>\n",
       "      <td>11536</td>\n",
       "    </tr>\n",
       "  </tbody>\n",
       "</table>\n",
       "</div>"
      ],
      "text/plain": [
       "   source_id                     name    cnt\n",
       "0      14507               Folic acid  28009\n",
       "1      13831                  Retinol  22931\n",
       "2      21595  Unsaturated fatty acids  18776\n",
       "3      13267           Cyanocobalamin  12424\n",
       "4        565         alpha-Tocopherol  11536"
      ]
     },
     "execution_count": 12,
     "metadata": {},
     "output_type": "execute_result"
    }
   ],
   "source": [
    "compounds.head()"
   ]
  },
  {
   "cell_type": "markdown",
   "metadata": {},
   "source": [
    "Let's rename some of the entries, so we can recognize them more easily"
   ]
  },
  {
   "cell_type": "code",
   "execution_count": 36,
   "metadata": {
    "collapsed": false
   },
   "outputs": [],
   "source": [
    "compounds.name = compounds.name.replace(\n",
    "    [\"Retinol\", \n",
    "     \"Cyanocobalamin\", \n",
    "     \"alpha-Tocopherol\", \n",
    "     \"L-Ascorbic acid\", \n",
    "     \"Riboflavine\"], \n",
    "    [\"VitaminA1\", \"VitaminB12\", \n",
    "     \"VitaminE\", \"VitaminC\", \"VitaminB2\"]).str.replace(' ', '')"
   ]
  },
  {
   "cell_type": "code",
   "execution_count": 37,
   "metadata": {
    "collapsed": false,
    "scrolled": true
   },
   "outputs": [
    {
     "data": {
      "text/html": [
       "<div>\n",
       "<table border=\"1\" class=\"dataframe\">\n",
       "  <thead>\n",
       "    <tr style=\"text-align: right;\">\n",
       "      <th></th>\n",
       "      <th>source_id</th>\n",
       "      <th>name</th>\n",
       "      <th>cnt</th>\n",
       "    </tr>\n",
       "  </thead>\n",
       "  <tbody>\n",
       "    <tr>\n",
       "      <th>0</th>\n",
       "      <td>14507</td>\n",
       "      <td>Folicacid</td>\n",
       "      <td>28009</td>\n",
       "    </tr>\n",
       "    <tr>\n",
       "      <th>1</th>\n",
       "      <td>13831</td>\n",
       "      <td>VitaminA1</td>\n",
       "      <td>22931</td>\n",
       "    </tr>\n",
       "    <tr>\n",
       "      <th>2</th>\n",
       "      <td>21595</td>\n",
       "      <td>Unsaturatedfattyacids</td>\n",
       "      <td>18776</td>\n",
       "    </tr>\n",
       "    <tr>\n",
       "      <th>3</th>\n",
       "      <td>13267</td>\n",
       "      <td>VitaminB12</td>\n",
       "      <td>12424</td>\n",
       "    </tr>\n",
       "    <tr>\n",
       "      <th>4</th>\n",
       "      <td>565</td>\n",
       "      <td>VitaminE</td>\n",
       "      <td>11536</td>\n",
       "    </tr>\n",
       "  </tbody>\n",
       "</table>\n",
       "</div>"
      ],
      "text/plain": [
       "   source_id                   name    cnt\n",
       "0      14507              Folicacid  28009\n",
       "1      13831              VitaminA1  22931\n",
       "2      21595  Unsaturatedfattyacids  18776\n",
       "3      13267             VitaminB12  12424\n",
       "4        565               VitaminE  11536"
      ]
     },
     "execution_count": 37,
     "metadata": {},
     "output_type": "execute_result"
    }
   ],
   "source": [
    "compounds.head()"
   ]
  },
  {
   "cell_type": "code",
   "execution_count": 75,
   "metadata": {
    "collapsed": false
   },
   "outputs": [],
   "source": [
    "for _, row in compounds.iterrows():\n",
    "    \n",
    "    df = pd.read_sql(\"SELECT food_id, standard_content FROM `contents` \" + \n",
    "                     \"WHERE source_type = \\\"Compound\\\" AND source_id = \" + str(row['source_id'])\n",
    "                     , connection)\n",
    "    grouped = df.groupby('food_id')\n",
    "    df = grouped.median().reset_index()\n",
    "    df.columns = ['food_id', row['name']]\n",
    "    foods = foods.merge(df, 'left', left_on = 'id', right_on = 'food_id')\n",
    "    del foods['food_id'] # remove extra column\n",
    "\n",
    "foods = foods.dropna()"
   ]
  },
  {
   "cell_type": "code",
   "execution_count": 106,
   "metadata": {
    "collapsed": false
   },
   "outputs": [
    {
     "data": {
      "text/html": [
       "<div>\n",
       "<table border=\"1\" class=\"dataframe\">\n",
       "  <thead>\n",
       "    <tr style=\"text-align: right;\">\n",
       "      <th></th>\n",
       "      <th>id</th>\n",
       "      <th>name</th>\n",
       "      <th>food_subgroup</th>\n",
       "      <th>nnutrients</th>\n",
       "      <th>Folicacid_x</th>\n",
       "      <th>VitaminA1_x</th>\n",
       "      <th>Folicacid_y</th>\n",
       "      <th>VitaminA1_y</th>\n",
       "      <th>Unsaturatedfattyacids</th>\n",
       "      <th>VitaminB12</th>\n",
       "      <th>...</th>\n",
       "      <th>Calcium</th>\n",
       "      <th>Ash</th>\n",
       "      <th>Iron</th>\n",
       "      <th>Sodium</th>\n",
       "      <th>Potassium</th>\n",
       "      <th>Phosphorus</th>\n",
       "      <th>Cholesterol</th>\n",
       "      <th>Magnesium</th>\n",
       "      <th>VitaminB2</th>\n",
       "      <th>Zinc</th>\n",
       "    </tr>\n",
       "  </thead>\n",
       "  <tbody>\n",
       "    <tr>\n",
       "      <th>0</th>\n",
       "      <td>2</td>\n",
       "      <td>Savoy cabbage</td>\n",
       "      <td>Cabbages</td>\n",
       "      <td>7</td>\n",
       "      <td>0.0800</td>\n",
       "      <td>0.0</td>\n",
       "      <td>0.080</td>\n",
       "      <td>25.0</td>\n",
       "      <td>3.5</td>\n",
       "      <td>0.0</td>\n",
       "      <td>...</td>\n",
       "      <td>35.0</td>\n",
       "      <td>800.0</td>\n",
       "      <td>0.40</td>\n",
       "      <td>28.0</td>\n",
       "      <td>230.0</td>\n",
       "      <td>42.0</td>\n",
       "      <td>0.0</td>\n",
       "      <td>28.0</td>\n",
       "      <td>0.0300</td>\n",
       "      <td>0.27</td>\n",
       "    </tr>\n",
       "    <tr>\n",
       "      <th>1</th>\n",
       "      <td>4</td>\n",
       "      <td>Kiwi</td>\n",
       "      <td>Tropical fruits</td>\n",
       "      <td>17</td>\n",
       "      <td>0.0295</td>\n",
       "      <td>0.0</td>\n",
       "      <td>0.034</td>\n",
       "      <td>4.0</td>\n",
       "      <td>73.5</td>\n",
       "      <td>0.0</td>\n",
       "      <td>...</td>\n",
       "      <td>32.9</td>\n",
       "      <td>730.0</td>\n",
       "      <td>0.30</td>\n",
       "      <td>3.0</td>\n",
       "      <td>314.0</td>\n",
       "      <td>33.4</td>\n",
       "      <td>0.0</td>\n",
       "      <td>15.5</td>\n",
       "      <td>0.0355</td>\n",
       "      <td>0.10</td>\n",
       "    </tr>\n",
       "    <tr>\n",
       "      <th>2</th>\n",
       "      <td>5</td>\n",
       "      <td>Allium (Onion)</td>\n",
       "      <td>Onion-family vegetables</td>\n",
       "      <td>33</td>\n",
       "      <td>0.0150</td>\n",
       "      <td>0.0</td>\n",
       "      <td>0.020</td>\n",
       "      <td>0.0</td>\n",
       "      <td>36.5</td>\n",
       "      <td>0.0</td>\n",
       "      <td>...</td>\n",
       "      <td>27.0</td>\n",
       "      <td>800.0</td>\n",
       "      <td>0.34</td>\n",
       "      <td>16.0</td>\n",
       "      <td>146.0</td>\n",
       "      <td>33.0</td>\n",
       "      <td>0.0</td>\n",
       "      <td>10.0</td>\n",
       "      <td>0.0270</td>\n",
       "      <td>0.21</td>\n",
       "    </tr>\n",
       "    <tr>\n",
       "      <th>4</th>\n",
       "      <td>7</td>\n",
       "      <td>Leek</td>\n",
       "      <td>Onion-family vegetables</td>\n",
       "      <td>7</td>\n",
       "      <td>0.0820</td>\n",
       "      <td>0.0</td>\n",
       "      <td>0.082</td>\n",
       "      <td>8.9</td>\n",
       "      <td>107.0</td>\n",
       "      <td>0.0</td>\n",
       "      <td>...</td>\n",
       "      <td>42.3</td>\n",
       "      <td>800.0</td>\n",
       "      <td>0.90</td>\n",
       "      <td>9.0</td>\n",
       "      <td>236.0</td>\n",
       "      <td>45.6</td>\n",
       "      <td>0.0</td>\n",
       "      <td>10.0</td>\n",
       "      <td>0.1000</td>\n",
       "      <td>0.29</td>\n",
       "    </tr>\n",
       "    <tr>\n",
       "      <th>5</th>\n",
       "      <td>8</td>\n",
       "      <td>Garlic</td>\n",
       "      <td>Herbs</td>\n",
       "      <td>24</td>\n",
       "      <td>0.0030</td>\n",
       "      <td>0.0</td>\n",
       "      <td>0.025</td>\n",
       "      <td>0.0</td>\n",
       "      <td>146.5</td>\n",
       "      <td>0.0</td>\n",
       "      <td>...</td>\n",
       "      <td>49.8</td>\n",
       "      <td>2400.0</td>\n",
       "      <td>1.70</td>\n",
       "      <td>17.0</td>\n",
       "      <td>401.0</td>\n",
       "      <td>160.0</td>\n",
       "      <td>0.0</td>\n",
       "      <td>25.0</td>\n",
       "      <td>0.1255</td>\n",
       "      <td>1.16</td>\n",
       "    </tr>\n",
       "  </tbody>\n",
       "</table>\n",
       "<p>5 rows × 26 columns</p>\n",
       "</div>"
      ],
      "text/plain": [
       "   id            name            food_subgroup  nnutrients  Folicacid_x  \\\n",
       "0   2   Savoy cabbage                 Cabbages           7       0.0800   \n",
       "1   4            Kiwi          Tropical fruits          17       0.0295   \n",
       "2   5  Allium (Onion)  Onion-family vegetables          33       0.0150   \n",
       "4   7            Leek  Onion-family vegetables           7       0.0820   \n",
       "5   8          Garlic                    Herbs          24       0.0030   \n",
       "\n",
       "   VitaminA1_x  Folicacid_y  VitaminA1_y  Unsaturatedfattyacids  VitaminB12  \\\n",
       "0          0.0        0.080         25.0                    3.5         0.0   \n",
       "1          0.0        0.034          4.0                   73.5         0.0   \n",
       "2          0.0        0.020          0.0                   36.5         0.0   \n",
       "4          0.0        0.082          8.9                  107.0         0.0   \n",
       "5          0.0        0.025          0.0                  146.5         0.0   \n",
       "\n",
       "   ...   Calcium     Ash  Iron  Sodium  Potassium  Phosphorus  Cholesterol  \\\n",
       "0  ...      35.0   800.0  0.40    28.0      230.0        42.0          0.0   \n",
       "1  ...      32.9   730.0  0.30     3.0      314.0        33.4          0.0   \n",
       "2  ...      27.0   800.0  0.34    16.0      146.0        33.0          0.0   \n",
       "4  ...      42.3   800.0  0.90     9.0      236.0        45.6          0.0   \n",
       "5  ...      49.8  2400.0  1.70    17.0      401.0       160.0          0.0   \n",
       "\n",
       "   Magnesium  VitaminB2  Zinc  \n",
       "0       28.0     0.0300  0.27  \n",
       "1       15.5     0.0355  0.10  \n",
       "2       10.0     0.0270  0.21  \n",
       "4       10.0     0.1000  0.29  \n",
       "5       25.0     0.1255  1.16  \n",
       "\n",
       "[5 rows x 26 columns]"
      ]
     },
     "execution_count": 106,
     "metadata": {},
     "output_type": "execute_result"
    }
   ],
   "source": [
    "foods.head()"
   ]
  },
  {
   "cell_type": "code",
   "execution_count": 117,
   "metadata": {
    "collapsed": false
   },
   "outputs": [],
   "source": [
    "from sklearn.decomposition import PCA\n",
    "import ipywidgets as widgets\n",
    "from ipywidgets import interact, interactive, fixed\n"
   ]
  },
  {
   "cell_type": "code",
   "execution_count": 134,
   "metadata": {
    "collapsed": false
   },
   "outputs": [
    {
     "data": {
      "text/plain": [
       "'Tropical fruits'"
      ]
     },
     "metadata": {},
     "output_type": "display_data"
    },
    {
     "data": {
      "image/png": "[encoded data removed]",
      "text/plain": [
       "<matplotlib.figure.Figure at 0x2015c7cb550>"
      ]
     },
     "metadata": {},
     "output_type": "display_data"
    }
   ],
   "source": [
    "pca = PCA(n_components = 2)\n",
    "\n",
    "def select(subgroup):\n",
    "    df = foods[foods.food_subgroup == subgroup].drop(['name', 'food_subgroup', 'id'], 1)\n",
    "    pca.fit(df)\n",
    "    out = pca.transform(df)\n",
    "    plt.scatter(x = out[:, 0], y = out[:, 1])\n",
    "    return subgroup\n",
    "interact(select, subgroup=['Cabbages','Tropical fruits'])"
   ]
  },
  {
   "cell_type": "code",
   "execution_count": null,
   "metadata": {
    "collapsed": true
   },
   "outputs": [],
   "source": []
  }
 ],
 "metadata": {
  "anaconda-cloud": {},
  "kernelspec": {
   "display_name": "Python [default]",
   "language": "python",
   "name": "python3"
  },
  "language_info": {
   "codemirror_mode": {
    "name": "ipython",
    "version": 3
   },
   "file_extension": ".py",
   "mimetype": "text/x-python",
   "name": "python",
   "nbconvert_exporter": "python",
   "pygments_lexer": "ipython3",
   "version": "3.5.2"
  }
 },
 "nbformat": 4,
 "nbformat_minor": 0
}
