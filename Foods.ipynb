{
 "cells": [
  {
   "cell_type": "markdown",
   "metadata": {},
   "source": [
    "Let's query some interesting stuff about foods"
   ]
  },
  {
   "cell_type": "code",
   "execution_count": 1,
   "metadata": {
    "collapsed": true
   },
   "outputs": [],
   "source": [
    "import pandas as pd # for loading data\n",
    "import mysql.connector as con\n"
   ]
  },
  {
   "cell_type": "code",
   "execution_count": 2,
   "metadata": {
    "collapsed": true
   },
   "outputs": [],
   "source": [
    "connection = con.connect(user = 'root', password = 'root', database = 'foodb')"
   ]
  },
  {
   "cell_type": "markdown",
   "metadata": {},
   "source": [
    "I will query the top 20 compounds that are present in most of the foods"
   ]
  },
  {
   "cell_type": "code",
   "execution_count": 11,
   "metadata": {
    "collapsed": true
   },
   "outputs": [],
   "source": [
    "compounds = pd.read_sql(\"SELECT ta.source_id, comp.name, ta.cnt FROM (SELECT source_id, COUNT(*) AS cnt \" + \n",
    "                    \"FROM `contents` WHERE source_type = \\\"Compound\\\" GROUP BY source_id ORDER BY cnt DESC LIMIT 20) ta, compounds \" + \n",
    "                    \"AS comp WHERE ta.source_id = comp.id\" , connection)"
   ]
  },
  {
   "cell_type": "code",
   "execution_count": 12,
   "metadata": {
    "collapsed": false
   },
   "outputs": [
    {
     "data": {
      "text/html": [
       "<div>\n",
       "<table border=\"1\" class=\"dataframe\">\n",
       "  <thead>\n",
       "    <tr style=\"text-align: right;\">\n",
       "      <th></th>\n",
       "      <th>source_id</th>\n",
       "      <th>name</th>\n",
       "      <th>cnt</th>\n",
       "    </tr>\n",
       "  </thead>\n",
       "  <tbody>\n",
       "    <tr>\n",
       "      <th>0</th>\n",
       "      <td>14507</td>\n",
       "      <td>Folic acid</td>\n",
       "      <td>28009</td>\n",
       "    </tr>\n",
       "    <tr>\n",
       "      <th>1</th>\n",
       "      <td>13831</td>\n",
       "      <td>Retinol</td>\n",
       "      <td>22931</td>\n",
       "    </tr>\n",
       "    <tr>\n",
       "      <th>2</th>\n",
       "      <td>21595</td>\n",
       "      <td>Unsaturated fatty acids</td>\n",
       "      <td>18776</td>\n",
       "    </tr>\n",
       "    <tr>\n",
       "      <th>3</th>\n",
       "      <td>13267</td>\n",
       "      <td>Cyanocobalamin</td>\n",
       "      <td>12424</td>\n",
       "    </tr>\n",
       "    <tr>\n",
       "      <th>4</th>\n",
       "      <td>565</td>\n",
       "      <td>alpha-Tocopherol</td>\n",
       "      <td>11536</td>\n",
       "    </tr>\n",
       "  </tbody>\n",
       "</table>\n",
       "</div>"
      ],
      "text/plain": [
       "   source_id                     name    cnt\n",
       "0      14507               Folic acid  28009\n",
       "1      13831                  Retinol  22931\n",
       "2      21595  Unsaturated fatty acids  18776\n",
       "3      13267           Cyanocobalamin  12424\n",
       "4        565         alpha-Tocopherol  11536"
      ]
     },
     "execution_count": 12,
     "metadata": {},
     "output_type": "execute_result"
    }
   ],
   "source": [
    "compounds.head()"
   ]
  },
  {
   "cell_type": "markdown",
   "metadata": {},
   "source": [
    "Let's rename some of the entries, so we can recognize them more easily"
   ]
  },
  {
   "cell_type": "code",
   "execution_count": 36,
   "metadata": {
    "collapsed": false
   },
   "outputs": [],
   "source": [
    "compounds.name = compounds.name.replace(\n",
    "    [\"Retinol\", \n",
    "     \"Cyanocobalamin\", \n",
    "     \"alpha-Tocopherol\", \n",
    "     \"L-Ascorbic acid\", \n",
    "     \"Riboflavine\"], \n",
    "    [\"VitaminA1\", \"VitaminB12\", \n",
    "     \"VitaminE\", \"VitaminC\", \"VitaminB2\"]).str.replace(' ', '')"
   ]
  },
  {
   "cell_type": "code",
   "execution_count": 37,
   "metadata": {
    "collapsed": false
   },
   "outputs": [
    {
     "data": {
      "text/html": [
       "<div>\n",
       "<table border=\"1\" class=\"dataframe\">\n",
       "  <thead>\n",
       "    <tr style=\"text-align: right;\">\n",
       "      <th></th>\n",
       "      <th>source_id</th>\n",
       "      <th>name</th>\n",
       "      <th>cnt</th>\n",
       "    </tr>\n",
       "  </thead>\n",
       "  <tbody>\n",
       "    <tr>\n",
       "      <th>0</th>\n",
       "      <td>14507</td>\n",
       "      <td>Folicacid</td>\n",
       "      <td>28009</td>\n",
       "    </tr>\n",
       "    <tr>\n",
       "      <th>1</th>\n",
       "      <td>13831</td>\n",
       "      <td>VitaminA1</td>\n",
       "      <td>22931</td>\n",
       "    </tr>\n",
       "    <tr>\n",
       "      <th>2</th>\n",
       "      <td>21595</td>\n",
       "      <td>Unsaturatedfattyacids</td>\n",
       "      <td>18776</td>\n",
       "    </tr>\n",
       "    <tr>\n",
       "      <th>3</th>\n",
       "      <td>13267</td>\n",
       "      <td>VitaminB12</td>\n",
       "      <td>12424</td>\n",
       "    </tr>\n",
       "    <tr>\n",
       "      <th>4</th>\n",
       "      <td>565</td>\n",
       "      <td>VitaminE</td>\n",
       "      <td>11536</td>\n",
       "    </tr>\n",
       "  </tbody>\n",
       "</table>\n",
       "</div>"
      ],
      "text/plain": [
       "   source_id                   name    cnt\n",
       "0      14507              Folicacid  28009\n",
       "1      13831              VitaminA1  22931\n",
       "2      21595  Unsaturatedfattyacids  18776\n",
       "3      13267             VitaminB12  12424\n",
       "4        565               VitaminE  11536"
      ]
     },
     "execution_count": 37,
     "metadata": {},
     "output_type": "execute_result"
    }
   ],
   "source": [
    "compounds.head()"
   ]
  },
  {
   "cell_type": "code",
   "execution_count": null,
   "metadata": {
    "collapsed": true
   },
   "outputs": [],
   "source": []
  }
 ],
 "metadata": {
  "kernelspec": {
   "display_name": "Python 3",
   "language": "python",
   "name": "python3"
  },
  "language_info": {
   "codemirror_mode": {
    "name": "ipython",
    "version": 3
   },
   "file_extension": ".py",
   "mimetype": "text/x-python",
   "name": "python",
   "nbconvert_exporter": "python",
   "pygments_lexer": "ipython3",
   "version": "3.5.2"
  }
 },
 "nbformat": 4,
 "nbformat_minor": 0
}
